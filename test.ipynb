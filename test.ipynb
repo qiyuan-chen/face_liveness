{
 "cells": [
  {
   "cell_type": "code",
   "execution_count": null,
   "metadata": {},
   "outputs": [],
   "source": []
  }
 ],
 "metadata": {
  "kernelspec": {
   "display_name": "Python 3.8.0 ('face')",
   "language": "python",
   "name": "python3"
  },
  "language_info": {
   "name": "python",
   "version": "3.8.0"
  },
  "orig_nbformat": 4,
  "vscode": {
   "interpreter": {
    "hash": "4d9dacce116b0bc797e70eaaef2d1b6ad1d4ad349fea60fc80d61903e1816c5a"
   }
  }
 },
 "nbformat": 4,
 "nbformat_minor": 2
}
